```json
{
 "cells": [
  {
   "cell_type": "markdown",
   "metadata": {},
   "source": [
    "# Setup and Run: liteOutInpainta\n",
    "This notebook sets up the environment, downloads models, and runs the app."
   ]
  },
  {
   "cell_type": "code",
   "metadata": {},
   "source": [
    "# Clone the repo if you haven't already\n",
    "!git clone https://github.com/remphan1618/liteOutInpainta.git || echo 'Repo already cloned.'\n",
    "%cd liteOutInpainta"
   ],
   "execution_count": null,
   "outputs": []
  },
  {
   "cell_type": "markdown",
   "metadata": {},
   "source": [
    "## Install Large/Optional Dependencies\n",
    "Some dependencies are large and may fail during Docker build due to disk space limits. Install them here if needed."
   ]
  },
  {
   "cell_type": "code",
   "metadata": {},
   "source": [
    "# xformers is large, install only if you need it for performance or memory\n",
    "!pip install --no-cache-dir xformers==0.0.25"
   ],
   "execution_count": null,
   "outputs": []
  },
  {
   "cell_type": "code",
   "metadata": {},
   "source": [
    "# (Add any other large dependencies here if needed, e.g. bitsandbytes, triton, etc.)\n",
    "# !pip install --no-cache-dir bitsandbytes\n",
    "# !pip install --no-cache-dir triton"
   ],
   "execution_count": null,
   "outputs": []
  },
  {
   "cell_type": "markdown",
   "metadata": {},
   "source": [
    "## Install other Python dependencies (safe if run multiple times)"
   ]
  },
  {
   "cell_type": "code",
   "metadata": {},
   "source": [
    "!pip install -r requirements.txt || echo 'requirements.txt not found, skipping.'\n",
    "!pip install --no-cache-dir diffusers transformers accelerate huggingface_hub gradio opencv-python matplotlib pillow"
   ],
   "execution_count": null,
   "outputs": []
  },
  {
   "cell_type": "markdown",
   "metadata": {},
   "source": [
    "## Download Models\n",
    "You can pre-download models here for speed or offline use:"
   ]
  },
  {
   "cell_type": "code",
   "metadata": {},
   "source": [
    "from huggingface_hub import hf_hub_download\n",
    "models_to_download = [\n",
    "    ('xinsir/controlnet-union-sdxl-1.0', 'config_promax.json'),\n",
    "    ('xinsir/controlnet-union-sdxl-1.0', 'diffusion_pytorch_model_promax.safetensors'),\n",
    "    ('madebyollin/sdxl-vae-fp16-fix', ''),\n",
    "    ('SG161222/RealVisXL_V5.0_Lightning', ''),\n",
    "]\n",
    "for repo, filename in models_to_download:\n",
    "    if filename:\n",
    "        print(hf_hub_download(repo, filename=filename))\n",
    "    else:\n",
    "        print(hf_hub_download(repo))"
   ],
   "execution_count": null,
   "outputs": []
  },
  {
   "cell_type": "markdown",
   "metadata": {},
   "source": [
    "## Run `app.py`\n",
    "This will launch the Gradio app inside the container. (You may need to open port 7860 to access it externally.)"
   ]
  },
  {
   "cell_type": "code",
   "metadata": {},
   "source": [
    "!python app.py"
   ],
   "execution_count": null,
   "outputs": []
  }
 ],
 "metadata": {
  "kernelspec": {
   "display_name": "Python 3",
   "language": "python",
   "name": "python3"
  },
  "language_info": {
   "name": "python",
   "version": "3.10"
  }
 },
 "nbformat": 4,
 "nbformat_minor": 2
}
```
